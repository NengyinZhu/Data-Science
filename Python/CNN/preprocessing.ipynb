{
 "cells": [
  {
   "cell_type": "code",
   "execution_count": 1,
   "metadata": {
    "collapsed": false
   },
   "outputs": [],
   "source": [
    "import cv2\n",
    "import numpy as np\n",
    "import os\n",
    "from random import shuffle\n",
    "from tqdm import tqdm\n",
    "from PIL import Image\n",
    "import tensorflow as tf\n",
    "\n",
    "IMG_SIZE = (224,224)  # image dimention: rows:224, cols:224\n",
    "LR = 1e-3\n",
    "TRAIN_FILE= 'train_data224.npy'   # training file(output file)\n",
    "train_data = []"
   ]
  },
  {
   "cell_type": "code",
   "execution_count": 2,
   "metadata": {
    "collapsed": false
   },
   "outputs": [],
   "source": [
    "def create_train_data(TRAIN_DIR,label):\n",
    "    #train_data = []\n",
    "    for img in tqdm(os.listdir(TRAIN_DIR)):\n",
    "        path = os.path.join(TRAIN_DIR,img)\n",
    "        img = cv2.resize(cv2.imread(path, cv2.IMREAD_GRAYSCALE), IMG_SIZE)\n",
    "        train_data.append([img,label])\n",
    "    return train_data"
   ]
  },
  {
   "cell_type": "code",
   "execution_count": 4,
   "metadata": {
    "collapsed": false
   },
   "outputs": [
    {
     "name": "stderr",
     "output_type": "stream",
     "text": [
      "100%|████████████████████████████████████████| 249/249 [00:02<00:00, 87.24it/s]\n",
      "100%|███████████████████████████████████████| 781/781 [00:05<00:00, 133.79it/s]\n",
      "100%|███████████████████████████████████████| 450/450 [00:02<00:00, 190.26it/s]\n"
     ]
    }
   ],
   "source": [
    "# create train dataset, labled with 0,1,2\n",
    "with open(TRAIN_FILE, 'wb') as f:\n",
    "    TRAIN_DIR = './train/type1'\n",
    "    label = 0\n",
    "    create_train_data(TRAIN_DIR,label)\n",
    "    TRAIN_DIR = './train/type2'\n",
    "    label = 1\n",
    "    create_train_data(TRAIN_DIR,label)\n",
    "    TRAIN_DIR = './train/type3'\n",
    "    label = 2\n",
    "    create_train_data(TRAIN_DIR,label)\n",
    "    np.save(f, train_data)\n",
    "    del train_data  # release memeory\n",
    "f.close()"
   ]
  }
 ],
 "metadata": {
  "anaconda-cloud": {},
  "kernelspec": {
   "display_name": "Python [conda env:tensorflow]",
   "language": "python",
   "name": "conda-env-tensorflow-py"
  },
  "language_info": {
   "codemirror_mode": {
    "name": "ipython",
    "version": 3
   },
   "file_extension": ".py",
   "mimetype": "text/x-python",
   "name": "python",
   "nbconvert_exporter": "python",
   "pygments_lexer": "ipython3",
   "version": "3.5.3"
  }
 },
 "nbformat": 4,
 "nbformat_minor": 1
}
