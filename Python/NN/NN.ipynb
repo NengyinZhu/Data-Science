{
 "cells": [
  {
   "cell_type": "code",
   "execution_count": 1,
   "metadata": {
    "collapsed": true
   },
   "outputs": [],
   "source": [
    "import numpy as np\n",
    "import sys\n",
    "\n",
    "sys.setrecursionlimit(110000) # change the recursion depth\n",
    "\n",
    "#l=0.1 #lamda\n"
   ]
  },
  {
   "cell_type": "code",
   "execution_count": 2,
   "metadata": {
    "collapsed": true
   },
   "outputs": [],
   "source": [
    "#  sigmoid(logistic) function\n",
    "def mathf(x):\n",
    "    return 1/(1+np.exp(-x))\n"
   ]
  },
  {
   "cell_type": "code",
   "execution_count": 3,
   "metadata": {
    "collapsed": true
   },
   "outputs": [],
   "source": [
    "# result of each preceptron\n",
    "def ptronV(xList,wList):\n",
    "    result=np.sum(np.multiply(xList,wList))\n",
    "\n",
    "    return mathf(result)\n"
   ]
  },
  {
   "cell_type": "code",
   "execution_count": 4,
   "metadata": {
    "collapsed": true
   },
   "outputs": [],
   "source": [
    "# train the weights\n",
    "def trainW(xList, tList, oList, hidResults, wList1, wList2, n, m, T):\n",
    "\n",
    "    # Backward\n",
    "    # Hidden Layer weight list 2\n",
    "    deltaOList2 = (tList - oList) * (oList * (1 - oList))\n",
    "    #deltaWLists = np.empty(m)\n",
    "    deltaWLists2 = np.empty(m)\n",
    "    deltaWLists = hidResults @ deltaOList2\n",
    "    for i in range(0,n):\n",
    "        deltaWLists2[i]=np.sum(hidResults[i])*deltaOList2[i]\n",
    "\n",
    "    print(hidResults)\n",
    "    print(deltaOList2)\n",
    "    print(deltaWLists2)\n",
    "    print(deltaWLists)\n",
    "    #deltaWLists=np.dot(hidResults,deltaOList2)\n",
    "    newWList2 = wList2 + deltaWLists2\n",
    "\n",
    "    # Hidden Layer weight list 1\n",
    "    deltaHList1=np.empty([n,m])\n",
    "    for i in range(0,n):\n",
    "        deltaHList1[i]=deltaOList2[i]*wList2[i]*(hidResults[i]*(1-hidResults[i]))\n",
    "    deltaHList1 = np.mat(deltaHList1)\n",
    "    xList = np.mat(xList)\n",
    "    deltaWLists1 = np.dot(deltaHList1, xList)\n",
    "    newWList1 = wList1 + deltaWLists1\n",
    "\n",
    "    # forward\n",
    "    newHidLists=np.empty([n,m])\n",
    "    newOList=np.empty(n)\n",
    "    for i in range(0, n):\n",
    "        for j in range(0, m):\n",
    "            newHidLists[i][j] = ptronV(xList[i], newWList1[i])  #Hidden layer preceptron\n",
    "        newOList[i] = ptronV(hidResults[i], newWList2[i])   # Output preceptron\n",
    "\n",
    "    errors=np.sum(abs(tList-newOList))\n",
    "    print(T, errors, newOList)\n",
    "    if T==0 or errors<0.01:\n",
    "        print('Target: ', tList)\n",
    "        print('Weights 0-11(X[i,j]):', newWList1)\n",
    "        print('Weights 12-15:', newWList2)\n",
    "        return T\n",
    "\n",
    "    # recursion loop\n",
    "    return trainW(xList, tList, newOList, newHidLists, newWList1, newWList2, n, m, T-1)\n"
   ]
  },
  {
   "cell_type": "code",
   "execution_count": 5,
   "metadata": {
    "collapsed": false
   },
   "outputs": [
    {
     "name": "stdout",
     "output_type": "stream",
     "text": [
      "Start:  [ 0.84102106  0.8699394   0.87876467  0.9124622 ]\n",
      "Times    Errors  OutputList\n",
      "[[ 0.55510566  0.53347601  0.67218952  0.55724533]\n",
      " [ 0.71345601  0.67184403  0.66573097  0.63335345]\n",
      " [ 0.66921209  0.77600419  0.72172941  0.66415101]\n",
      " [ 0.85770008  0.76923693  0.86534731  0.78679334]]\n",
      "[-0.11244842  0.01471568  0.01291609 -0.07288286]\n",
      "[-0.26065729  0.03950256  0.03656669 -0.23898856]\n",
      "[-0.08650186 -0.10790233 -0.10291571 -0.13129402]\n",
      "2 1.89900539927 [ 0.77776182  0.77626508  0.93118697  0.82869562]\n",
      "[[ 0.53575185  0.53575185  0.53575185  0.53575185]\n",
      " [ 0.63528142  0.63528142  0.63528142  0.63528142]\n",
      " [ 0.66730775  0.66730775  0.66730775  0.66730775]\n",
      " [ 0.77592148  0.77592148  0.77592148  0.77592148]]\n",
      "[-0.13443486  0.03885775  0.00440939 -0.11764096]\n",
      "[-0.28809491  0.09874242  0.01176967 -0.36512059]\n",
      "[-0.11186964 -0.13265228 -0.13933966 -0.16201915]\n",
      "1 1.49080351457 [ 0.63197643  0.80667656  0.92326372  0.58876736]\n",
      "[[ 0.51773602  0.51773602  0.51773602  0.51773602]\n",
      " [ 0.64106202  0.64106202  0.64106202  0.64106202]\n",
      " [ 0.66850653  0.66850653  0.66850653  0.66850653]\n",
      " [ 0.76194803  0.76194803  0.76194803  0.76194803]]\n",
      "[-0.14698648  0.03014869  0.0054366  -0.14255256]\n",
      "[-0.30440079  0.07730872  0.01453761 -0.43447058]\n",
      "[-0.13148101 -0.16280011 -0.16976974 -0.19349956]\n",
      "0 0.983800218678 [ 0.47305755  0.83750714  0.92627867  0.27452848]\n",
      "Target:  [0, 1, 1, 0]\n",
      "Weights 0-11(X[i,j]): [[ 0.03393418  0.88697345  0.70553475]\n",
      " [ 0.32445463  0.57438332  0.27892171]\n",
      " [ 0.15777969  0.55039498  0.38832541]\n",
      " [ 0.02970918  0.49178443  0.61797776]]\n",
      "Weights 12-15: [-0.05208942  0.63948405  0.94646904 -0.31884288]\n"
     ]
    }
   ],
   "source": [
    "def main():\n",
    "    xList = [[1,0,0],[1,0,1],[1,1,0],[1,1,1]]   # input, bias set to 1\n",
    "    tList=[0,1,1,0]     # target output\n",
    "    n=len(xList)\n",
    "    m=4         # number of hidden preceptrons\n",
    "    hidResults=np.empty([n,m])  # value of hiden preceptrons for each input\n",
    "    oList=np.empty(n)       # output value by training\n",
    "\n",
    "    wList1=np.empty([n,3])     # first level weights\n",
    "    wList2=np.empty(m)      # second level weights\n",
    "\n",
    "    # 1st Forward (weights are random values)\n",
    "    wList2 = np.random.rand(m)\n",
    "    for i in range(0,n):\n",
    "        for j in range(0,m):\n",
    "            wList1[i] = np.random.rand(3)\n",
    "            hidResults[i][j] = ptronV(xList[i],wList1[i])\n",
    "        oList[i]=ptronV(hidResults[i],wList2)\n",
    "\n",
    "    T=2  # times of training. this laptop environment can train at most 3900 times\n",
    "    print('Start: ', oList)\n",
    "    print('Times    Errors  OutputList')\n",
    "    trainW(xList, tList, oList, hidResults, wList1, wList2, n, m, T)\n",
    "\n",
    "\n",
    "if __name__ == '__main__':\n",
    "    main()\n",
    "\n"
   ]
  }
 ],
 "metadata": {
  "anaconda-cloud": {},
  "kernelspec": {
   "display_name": "Python [conda env:tensorflow]",
   "language": "python",
   "name": "conda-env-tensorflow-py"
  },
  "language_info": {
   "codemirror_mode": {
    "name": "ipython",
    "version": 3
   },
   "file_extension": ".py",
   "mimetype": "text/x-python",
   "name": "python",
   "nbconvert_exporter": "python",
   "pygments_lexer": "ipython3",
   "version": "3.5.3"
  }
 },
 "nbformat": 4,
 "nbformat_minor": 0
}
