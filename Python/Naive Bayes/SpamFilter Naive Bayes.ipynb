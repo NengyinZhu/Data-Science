{
 "cells": [
  {
   "cell_type": "code",
   "execution_count": 1,
   "metadata": {
    "collapsed": true
   },
   "outputs": [],
   "source": [
    "import numpy as np\n",
    "import pandas as pd\n",
    "import random\n"
   ]
  },
  {
   "cell_type": "code",
   "execution_count": 2,
   "metadata": {
    "collapsed": false
   },
   "outputs": [],
   "source": [
    "# split dataset to train and test data with 10 subsets. k is the kth subset, range[0,9]. \n",
    "# using cross validation split dataset with 460 testSet, and 4141 trainSet.\n",
    "def splitData(df, k):\n",
    "    subsetC=int(len(df)/10)\n",
    "    testSet=df[subsetC*k:subsetC*(k+1)]\n",
    "    if k==0: \n",
    "        trainSet=df[subsetC*(k+1): ]\n",
    "    else:\n",
    "        trainSet1=df[ :subsetC*k]\n",
    "        trainSet2=df[subsetC*(k+1): ]\n",
    "        trainSet=pd.concat([trainSet1, trainSet2])\n",
    "\n",
    "    return trainSet, testSet\n",
    "\n"
   ]
  },
  {
   "cell_type": "code",
   "execution_count": 3,
   "metadata": {
    "collapsed": true
   },
   "outputs": [],
   "source": [
    "# Summary how many rows of 0, how many rows of 1, and total rows for each of 57 columns\n",
    "def summarize(df):\n",
    "    attsNum=df.shape[1]-1\n",
    "    result=np.zeros(shape=(attsNum,3))\n",
    "    for i in range(0,attsNum):\n",
    "        Total=df.shape[0]\n",
    "        Num0=df[df[i]==0].shape[0]\n",
    "        Num1=df[df[i]==1].shape[0]\n",
    "        result[i]=[Num0,Num1,Total]\n",
    "        \n",
    "    return result\n",
    "    "
   ]
  },
  {
   "cell_type": "code",
   "execution_count": 4,
   "metadata": {
    "collapsed": true
   },
   "outputs": [],
   "source": [
    "# get the probability of class spam or not-spam for each row in testSet\n",
    "def probClass(df_noSpam,df_spam,pobj):\n",
    "    attsNum=pobj.shape[0]\n",
    "    logProb0=0\n",
    "    logProb1=0\n",
    "    for i in range(0,attsNum):\n",
    "        if df_noSpam[i][0]==0:\n",
    "            logProb0 += 0\n",
    "        elif df_spam[i][1]==0:\n",
    "            logProb1 += 0   \n",
    "        elif int(pobj[i])==0:\n",
    "            logProb0 += np.log2(df_noSpam[i][0]/df_noSpam[i][2]) \n",
    "            logProb1 += np.log2(1-df_spam[i][1]/df_spam[i][2])\n",
    "        else:\n",
    "            logProb0 += np.log2(1-df_noSpam[i][0]/df_noSpam[i][2])\n",
    "            logProb1 += np.log2(df_spam[i][1]/df_spam[i][2])\n",
    "            \n",
    "    return np.exp2(logProb0),np.exp2(logProb1)\n",
    " \n"
   ]
  },
  {
   "cell_type": "code",
   "execution_count": 5,
   "metadata": {
    "collapsed": false
   },
   "outputs": [
    {
     "name": "stdout",
     "output_type": "stream",
     "text": [
      "0.655869565217\n"
     ]
    }
   ],
   "source": [
    "# load data\n",
    "data_X=pd.read_table('spamdata_binary.txt',sep='\\t',header=None)\n",
    "data_Y=pd.read_table('spamlabels.txt',header=None)\n",
    "data_Spam=pd.concat([data_X, data_Y], axis=1,ignore_index=True)\n",
    "# ramdomlize the dataset\n",
    "data_Spam=data_Spam.sample(frac=1).reset_index(drop=True)\n",
    "\n",
    "accuracy=np.zeros(10)\n",
    "for k in range(0,10): \n",
    "    # using cross validation(kth range[0,9]) split data into trainSet and testSet\n",
    "    trainSet, testSet = splitData(data_Spam,k)\n",
    "    # get the summary of class spam or not-spam in trainSet\n",
    "    spamSet=trainSet[trainSet[57]==1]\n",
    "    result_spam=summarize(spamSet)\n",
    "    noSpamSet=trainSet[trainSet[57]==0]\n",
    "    result_noSpam=summarize(noSpamSet)\n",
    " \n",
    "    # probability of spam, not-spam\n",
    "    p_spam=float(len(spamSet))/float(len(trainSet))\n",
    "    p_noSpam=float(len(noSpamSet))/float(len(trainSet))\n",
    "    # predict its spam or not-spam for each row of testSet\n",
    "    # and get the accuracy of this prediction.\n",
    "    test_pred=np.zeros(len(testSet))\n",
    "    accurNum=0\n",
    "    for i in range(0,len(testSet)):\n",
    "        pobj=testSet[testSet.columns[0:57]][i:i+1]\n",
    "        p=probClass(result_noSpam,result_spam,pobj)\n",
    "        if p[0]*p_noSpam >p[1]*p_spam:\n",
    "            test_pred[i]=0\n",
    "        else:\n",
    "            test_pred[i]=1\n",
    "\n",
    "        if int(test_pred[i])==int(testSet[57][i+460*k]):\n",
    "            accurNum += 1\n",
    "\n",
    "    accuracy[k]=float(accurNum)/float(len(testSet))\n",
    "    \n",
    "# average accuracy of the 10 times train-test\n",
    "avgAccuracy=np.mean(accuracy)\n",
    "print(avgAccuracy)\n"
   ]
  }
 ],
 "metadata": {
  "kernelspec": {
   "display_name": "Python [conda root]",
   "language": "python",
   "name": "conda-root-py"
  },
  "language_info": {
   "codemirror_mode": {
    "name": "ipython",
    "version": 3
   },
   "file_extension": ".py",
   "mimetype": "text/x-python",
   "name": "python",
   "nbconvert_exporter": "python",
   "pygments_lexer": "ipython3",
   "version": "3.5.3"
  }
 },
 "nbformat": 4,
 "nbformat_minor": 0
}
